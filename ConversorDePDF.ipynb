{
  "nbformat": 4,
  "nbformat_minor": 0,
  "metadata": {
    "colab": {
      "provenance": [],
      "authorship_tag": "ABX9TyOx0oXSuOdPy+cIpPPmkRhQ"
    },
    "kernelspec": {
      "name": "python3",
      "display_name": "Python 3"
    },
    "language_info": {
      "name": "python"
    }
  },
  "cells": [
    {
      "cell_type": "markdown",
      "source": [
        "# Conversor de .pdf para .docs\n",
        "---\n"
      ],
      "metadata": {
        "id": "h1fwLHVPUm3Z"
      }
    },
    {
      "cell_type": "code",
      "source": [
        "!pip install pypdf\n",
        "!pip install python-docx"
      ],
      "metadata": {
        "colab": {
          "base_uri": "https://localhost:8080/"
        },
        "id": "OHMXbwP_bRuf",
        "outputId": "f610ad68-4e86-4d1d-a2a7-95b64cab587d"
      },
      "execution_count": 1,
      "outputs": [
        {
          "output_type": "stream",
          "name": "stdout",
          "text": [
            "Collecting pypdf\n",
            "  Downloading pypdf-4.3.1-py3-none-any.whl.metadata (7.4 kB)\n",
            "Requirement already satisfied: typing_extensions>=4.0 in /usr/local/lib/python3.10/dist-packages (from pypdf) (4.12.2)\n",
            "Downloading pypdf-4.3.1-py3-none-any.whl (295 kB)\n",
            "\u001b[2K   \u001b[90m━━━━━━━━━━━━━━━━━━━━━━━━━━━━━━━━━━━━━━━━\u001b[0m \u001b[32m295.8/295.8 kB\u001b[0m \u001b[31m4.3 MB/s\u001b[0m eta \u001b[36m0:00:00\u001b[0m\n",
            "\u001b[?25hInstalling collected packages: pypdf\n",
            "Successfully installed pypdf-4.3.1\n",
            "Collecting python-docx\n",
            "  Downloading python_docx-1.1.2-py3-none-any.whl.metadata (2.0 kB)\n",
            "Requirement already satisfied: lxml>=3.1.0 in /usr/local/lib/python3.10/dist-packages (from python-docx) (4.9.4)\n",
            "Requirement already satisfied: typing-extensions>=4.9.0 in /usr/local/lib/python3.10/dist-packages (from python-docx) (4.12.2)\n",
            "Downloading python_docx-1.1.2-py3-none-any.whl (244 kB)\n",
            "\u001b[2K   \u001b[90m━━━━━━━━━━━━━━━━━━━━━━━━━━━━━━━━━━━━━━━━\u001b[0m \u001b[32m244.3/244.3 kB\u001b[0m \u001b[31m3.6 MB/s\u001b[0m eta \u001b[36m0:00:00\u001b[0m\n",
            "\u001b[?25hInstalling collected packages: python-docx\n",
            "Successfully installed python-docx-1.1.2\n"
          ]
        }
      ]
    },
    {
      "cell_type": "code",
      "source": [
        "import pypdf\n",
        "from pypdf import PdfReader\n",
        "from docx import Document"
      ],
      "metadata": {
        "id": "NEOJNepMcEYG"
      },
      "execution_count": 2,
      "outputs": []
    },
    {
      "cell_type": "code",
      "source": [
        "def pdf_to_word(pdf_path, word_path):\n",
        "    # Criar um objeto de documento do Word\n",
        "    doc = Document()\n",
        "\n",
        "    # Ler o PDF\n",
        "    reader = PdfReader(pdf_path)\n",
        "\n",
        "    # Iterar sobre todas as páginas e adicionar o texto ao documento do Word\n",
        "    for page in reader.pages:\n",
        "        text = page.extract_text()\n",
        "        doc.add_paragraph(text)\n",
        "\n",
        "    # Salvar o documento do Word\n",
        "    doc.save(word_path)\n",
        "\n",
        "\n",
        "pdf_to_word('/content/Roteiro Experimental - Exp4-AmpOp - 2024.pdf', '/content/Roteiro Experimental - Exp4-AmpOp - 2024.docx')"
      ],
      "metadata": {
        "id": "52FL4ck1b6RT"
      },
      "execution_count": 3,
      "outputs": []
    }
  ]
}