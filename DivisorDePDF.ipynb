{
  "nbformat": 4,
  "nbformat_minor": 0,
  "metadata": {
    "colab": {
      "provenance": [],
      "authorship_tag": "ABX9TyOfGCkTKGvMJjcP5KCVF89B"
    },
    "kernelspec": {
      "name": "python3",
      "display_name": "Python 3"
    },
    "language_info": {
      "name": "python"
    }
  },
  "cells": [
    {
      "cell_type": "markdown",
      "source": [
        "# Divisor de Livros em PDF\n",
        "---\n",
        "\n",
        "Esse notebook divide livros grandes em PDFs menores, nesse caso ele está ajustado para dividir por capítulos reconhecendo palavras bem definidas como \"Caítulo X\" para a divisâo."
      ],
      "metadata": {
        "id": "8vcwFLO0aN2w"
      }
    },
    {
      "cell_type": "code",
      "execution_count": 1,
      "metadata": {
        "colab": {
          "base_uri": "https://localhost:8080/"
        },
        "id": "_z9jzcP3aFaJ",
        "outputId": "e09dcc1a-51fd-4a3d-dc4c-bb9815625114"
      },
      "outputs": [
        {
          "output_type": "stream",
          "name": "stdout",
          "text": [
            "Collecting pypdf2\n",
            "  Downloading pypdf2-3.0.1-py3-none-any.whl.metadata (6.8 kB)\n",
            "Downloading pypdf2-3.0.1-py3-none-any.whl (232 kB)\n",
            "\u001b[2K   \u001b[90m━━━━━━━━━━━━━━━━━━━━━━━━━━━━━━━━━━━━━━━━\u001b[0m \u001b[32m232.6/232.6 kB\u001b[0m \u001b[31m2.0 MB/s\u001b[0m eta \u001b[36m0:00:00\u001b[0m\n",
            "\u001b[?25hInstalling collected packages: pypdf2\n",
            "Successfully installed pypdf2-3.0.1\n"
          ]
        }
      ],
      "source": [
        "! pip install pypdf2"
      ]
    },
    {
      "cell_type": "code",
      "source": [
        "import PyPDF2"
      ],
      "metadata": {
        "id": "-coFOrRzbQQp"
      },
      "execution_count": 6,
      "outputs": []
    },
    {
      "cell_type": "markdown",
      "source": [
        "Gerando a função:"
      ],
      "metadata": {
        "id": "eDoPkLRJa4EY"
      }
    },
    {
      "cell_type": "code",
      "source": [
        "def encontrar_paginas_com_capitulos(pdf_path, palavras_chave):\n",
        "    with open(pdf_path, 'rb') as pdf_file:\n",
        "        reader = PyPDF2.PdfReader(pdf_file)\n",
        "        paginas_capitulos = []\n",
        "\n",
        "        # Iterar sobre as páginas\n",
        "        for numero_pagina, pagina in enumerate(reader.pages):\n",
        "            texto_pagina = pagina.extract_text()\n",
        "\n",
        "            # Verifica se alguma palavra-chave está na página\n",
        "            for palavra in palavras_chave:\n",
        "                if palavra in texto_pagina:\n",
        "                    paginas_capitulos.append(numero_pagina)\n",
        "                    break\n",
        "\n",
        "        return paginas_capitulos"
      ],
      "metadata": {
        "id": "C5KWBbzTa8F7"
      },
      "execution_count": 7,
      "outputs": []
    },
    {
      "cell_type": "markdown",
      "source": [],
      "metadata": {
        "id": "XrIMwKTHbX_9"
      }
    },
    {
      "cell_type": "code",
      "source": [
        "def separar_pdf_por_capitulos(pdf_path, paginas_capitulos):\n",
        "    with open(pdf_path, 'rb') as pdf_file:\n",
        "        reader = PyPDF2.PdfReader(pdf_file)\n",
        "        total_paginas = len(reader.pages)\n",
        "\n",
        "        # Adicionar uma última página para fechar o último capítulo\n",
        "        paginas_capitulos.append(total_paginas)\n",
        "\n",
        "        # Criar PDFs para cada capítulo\n",
        "        for i in range(len(paginas_capitulos) - 1):\n",
        "            writer = PyPDF2.PdfWriter()\n",
        "            inicio = paginas_capitulos[i]\n",
        "            fim = paginas_capitulos[i+1]\n",
        "\n",
        "            # Adicionar as páginas do capítulo atual ao novo PDF\n",
        "            for pagina in range(inicio, fim):\n",
        "                writer.add_page(reader.pages[pagina])\n",
        "\n",
        "            # Salvar o capítulo\n",
        "            with open(f'capitulo_{i+1}.pdf', 'wb') as novo_pdf:\n",
        "                writer.write(novo_pdf)"
      ],
      "metadata": {
        "id": "ez0x4fndbdSn"
      },
      "execution_count": 8,
      "outputs": []
    },
    {
      "cell_type": "markdown",
      "source": [
        "Uso:"
      ],
      "metadata": {
        "id": "MAq9j7w4bq75"
      }
    },
    {
      "cell_type": "code",
      "source": [
        "pdf_path = '/content/J. Kurose - Redes de Computadores e a Internet - 5ª Ed..pdf'\n",
        "palavras_chave = ['Capítulo 1', 'Capítulo 2', 'Capítulo 3', 'Capítulo 4', 'Capítulo 5', 'Capítulo 6', 'Capítulo 7', 'Capítulo 8', 'Capítulo 9']\n",
        "                   # Adicione as palavras que identificam o início de cada capítulo\n",
        "\n",
        "paginas_capitulos = encontrar_paginas_com_capitulos(pdf_path, palavras_chave)\n",
        "\n",
        "separar_pdf_por_capitulos(pdf_path, paginas_capitulos)\n",
        "\n",
        "print(\"PDF separado por capítulos com sucesso!\")"
      ],
      "metadata": {
        "colab": {
          "base_uri": "https://localhost:8080/"
        },
        "id": "imfQ-3WObtDP",
        "outputId": "d98201d3-d826-45fc-bb37-70a8cfccdbb2"
      },
      "execution_count": 10,
      "outputs": [
        {
          "output_type": "stream",
          "name": "stdout",
          "text": [
            "PDF separado por capítulos com sucesso!\n"
          ]
        }
      ]
    },
    {
      "cell_type": "code",
      "source": [
        "def separar_pdf_por_paginas(pdf_path, intervalos):\n",
        "    # Abrindo o arquivo PDF original\n",
        "    with open(pdf_path, 'rb') as pdf_file:\n",
        "        reader = PyPDF2.PdfReader(pdf_file)\n",
        "        total_paginas = len(reader.pages)\n",
        "\n",
        "        for i, (inicio, fim) in enumerate(intervalos):\n",
        "            writer = PyPDF2.PdfWriter()\n",
        "\n",
        "            # Ajustando o intervalo para evitar problemas de índice\n",
        "            if inicio < 0 or fim > total_paginas:\n",
        "                print(f\"Intervalo inválido: {inicio}-{fim}\")\n",
        "                continue\n",
        "\n",
        "            # Adicionando as páginas do intervalo ao novo PDF\n",
        "            for pagina in range(inicio, fim):\n",
        "                writer.add_page(reader.pages[pagina])\n",
        "\n",
        "            # Salvando o arquivo PDF para o intervalo atual\n",
        "            with open(f'Capítulo_{i+1}.pdf', 'wb') as novo_pdf:\n",
        "                writer.write(novo_pdf)\n",
        "\n",
        "            print(f\"PDF separado e salvo como: pdf_separado_{i+1}.pdf\")"
      ],
      "metadata": {
        "id": "I6LN5MCDgQLH"
      },
      "execution_count": 13,
      "outputs": []
    },
    {
      "cell_type": "code",
      "source": [
        "pdf_path = '/content/J. Kurose - Redes de Computadores e a Internet - 5ª Ed..pdf'\n",
        "intervalos = [(26, 86), (86, 166), (166, 254), (254, 344), (344, 403), (403, 454), (454, 518), (518, 579)]  # Intervalos de páginas a serem separados (página 0 a 5, página 5 a 10, etc.)\n",
        "\n",
        "separar_pdf_por_paginas(pdf_path, intervalos)"
      ],
      "metadata": {
        "colab": {
          "base_uri": "https://localhost:8080/"
        },
        "id": "GSHlmlDthgdh",
        "outputId": "a9e4179d-8e2f-434c-a6ce-13dca00fa816"
      },
      "execution_count": 14,
      "outputs": [
        {
          "output_type": "stream",
          "name": "stdout",
          "text": [
            "PDF separado e salvo como: pdf_separado_1.pdf\n",
            "PDF separado e salvo como: pdf_separado_2.pdf\n",
            "PDF separado e salvo como: pdf_separado_3.pdf\n",
            "PDF separado e salvo como: pdf_separado_4.pdf\n",
            "PDF separado e salvo como: pdf_separado_5.pdf\n",
            "PDF separado e salvo como: pdf_separado_6.pdf\n",
            "PDF separado e salvo como: pdf_separado_7.pdf\n",
            "PDF separado e salvo como: pdf_separado_8.pdf\n"
          ]
        }
      ]
    }
  ]
}